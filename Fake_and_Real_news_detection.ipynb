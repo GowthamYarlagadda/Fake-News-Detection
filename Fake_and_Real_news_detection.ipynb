{
  "nbformat": 4,
  "nbformat_minor": 0,
  "metadata": {
    "colab": {
      "name": "Fake_and_Real_news_detection.ipynb",
      "provenance": [],
      "collapsed_sections": []
    },
    "kernelspec": {
      "name": "python3",
      "display_name": "Python 3"
    },
    "language_info": {
      "name": "python"
    },
    "accelerator": "GPU"
  },
  "cells": [
    {
      "cell_type": "markdown",
      "metadata": {
        "id": "lc2yRL1CXRna"
      },
      "source": [
        "**Importing files from gdrive through pydrive**"
      ]
    },
    {
      "cell_type": "code",
      "metadata": {
        "id": "_xtLS--28XGT",
        "colab": {
          "base_uri": "https://localhost:8080/"
        },
        "outputId": "0e017330-5461-4c2c-ff9e-a286155ab383"
      },
      "source": [
        "!pip install Pydrive"
      ],
      "execution_count": 1,
      "outputs": [
        {
          "output_type": "stream",
          "text": [
            "Requirement already satisfied: Pydrive in /usr/local/lib/python3.7/dist-packages (1.3.1)\n",
            "Requirement already satisfied: oauth2client>=4.0.0 in /usr/local/lib/python3.7/dist-packages (from Pydrive) (4.1.3)\n",
            "Requirement already satisfied: PyYAML>=3.0 in /usr/local/lib/python3.7/dist-packages (from Pydrive) (3.13)\n",
            "Requirement already satisfied: google-api-python-client>=1.2 in /usr/local/lib/python3.7/dist-packages (from Pydrive) (1.12.8)\n",
            "Requirement already satisfied: pyasn1-modules>=0.0.5 in /usr/local/lib/python3.7/dist-packages (from oauth2client>=4.0.0->Pydrive) (0.2.8)\n",
            "Requirement already satisfied: six>=1.6.1 in /usr/local/lib/python3.7/dist-packages (from oauth2client>=4.0.0->Pydrive) (1.15.0)\n",
            "Requirement already satisfied: pyasn1>=0.1.7 in /usr/local/lib/python3.7/dist-packages (from oauth2client>=4.0.0->Pydrive) (0.4.8)\n",
            "Requirement already satisfied: rsa>=3.1.4 in /usr/local/lib/python3.7/dist-packages (from oauth2client>=4.0.0->Pydrive) (4.7.2)\n",
            "Requirement already satisfied: httplib2>=0.9.1 in /usr/local/lib/python3.7/dist-packages (from oauth2client>=4.0.0->Pydrive) (0.17.4)\n",
            "Requirement already satisfied: google-auth-httplib2>=0.0.3 in /usr/local/lib/python3.7/dist-packages (from google-api-python-client>=1.2->Pydrive) (0.0.4)\n",
            "Requirement already satisfied: google-api-core<2dev,>=1.21.0 in /usr/local/lib/python3.7/dist-packages (from google-api-python-client>=1.2->Pydrive) (1.26.3)\n",
            "Requirement already satisfied: google-auth>=1.16.0 in /usr/local/lib/python3.7/dist-packages (from google-api-python-client>=1.2->Pydrive) (1.32.1)\n",
            "Requirement already satisfied: uritemplate<4dev,>=3.0.0 in /usr/local/lib/python3.7/dist-packages (from google-api-python-client>=1.2->Pydrive) (3.0.1)\n",
            "Requirement already satisfied: packaging>=14.3 in /usr/local/lib/python3.7/dist-packages (from google-api-core<2dev,>=1.21.0->google-api-python-client>=1.2->Pydrive) (20.9)\n",
            "Requirement already satisfied: pytz in /usr/local/lib/python3.7/dist-packages (from google-api-core<2dev,>=1.21.0->google-api-python-client>=1.2->Pydrive) (2018.9)\n",
            "Requirement already satisfied: protobuf>=3.12.0 in /usr/local/lib/python3.7/dist-packages (from google-api-core<2dev,>=1.21.0->google-api-python-client>=1.2->Pydrive) (3.17.3)\n",
            "Requirement already satisfied: setuptools>=40.3.0 in /usr/local/lib/python3.7/dist-packages (from google-api-core<2dev,>=1.21.0->google-api-python-client>=1.2->Pydrive) (57.0.0)\n",
            "Requirement already satisfied: requests<3.0.0dev,>=2.18.0 in /usr/local/lib/python3.7/dist-packages (from google-api-core<2dev,>=1.21.0->google-api-python-client>=1.2->Pydrive) (2.23.0)\n",
            "Requirement already satisfied: googleapis-common-protos<2.0dev,>=1.6.0 in /usr/local/lib/python3.7/dist-packages (from google-api-core<2dev,>=1.21.0->google-api-python-client>=1.2->Pydrive) (1.53.0)\n",
            "Requirement already satisfied: cachetools<5.0,>=2.0.0 in /usr/local/lib/python3.7/dist-packages (from google-auth>=1.16.0->google-api-python-client>=1.2->Pydrive) (4.2.2)\n",
            "Requirement already satisfied: pyparsing>=2.0.2 in /usr/local/lib/python3.7/dist-packages (from packaging>=14.3->google-api-core<2dev,>=1.21.0->google-api-python-client>=1.2->Pydrive) (2.4.7)\n",
            "Requirement already satisfied: chardet<4,>=3.0.2 in /usr/local/lib/python3.7/dist-packages (from requests<3.0.0dev,>=2.18.0->google-api-core<2dev,>=1.21.0->google-api-python-client>=1.2->Pydrive) (3.0.4)\n",
            "Requirement already satisfied: idna<3,>=2.5 in /usr/local/lib/python3.7/dist-packages (from requests<3.0.0dev,>=2.18.0->google-api-core<2dev,>=1.21.0->google-api-python-client>=1.2->Pydrive) (2.10)\n",
            "Requirement already satisfied: certifi>=2017.4.17 in /usr/local/lib/python3.7/dist-packages (from requests<3.0.0dev,>=2.18.0->google-api-core<2dev,>=1.21.0->google-api-python-client>=1.2->Pydrive) (2021.5.30)\n",
            "Requirement already satisfied: urllib3!=1.25.0,!=1.25.1,<1.26,>=1.21.1 in /usr/local/lib/python3.7/dist-packages (from requests<3.0.0dev,>=2.18.0->google-api-core<2dev,>=1.21.0->google-api-python-client>=1.2->Pydrive) (1.24.3)\n"
          ],
          "name": "stdout"
        }
      ]
    },
    {
      "cell_type": "markdown",
      "metadata": {
        "id": "uuwVcMJBY-Th"
      },
      "source": [
        "**Authentication of user**"
      ]
    },
    {
      "cell_type": "code",
      "metadata": {
        "id": "zU5b6dlRwUQk"
      },
      "source": [
        "from pydrive.auth import GoogleAuth\n",
        "from pydrive.drive import GoogleDrive\n",
        "from google.colab import auth\n",
        "from oauth2client.client import GoogleCredentials"
      ],
      "execution_count": 2,
      "outputs": []
    },
    {
      "cell_type": "code",
      "metadata": {
        "id": "1w7lrGcW08Ds"
      },
      "source": [
        "auth.authenticate_user()\n",
        "gauth = GoogleAuth()\n",
        "gauth.credentials = GoogleCredentials.get_application_default()\n",
        "drive = GoogleDrive(gauth)"
      ],
      "execution_count": 3,
      "outputs": []
    },
    {
      "cell_type": "code",
      "metadata": {
        "id": "MB_7xGkrE7u9"
      },
      "source": [
        "id = \"1oPRRNIypDK-7j9GQcVm4-Ccu4CmWsS0l\""
      ],
      "execution_count": 4,
      "outputs": []
    },
    {
      "cell_type": "code",
      "metadata": {
        "id": "5p7z9WZJDNQc"
      },
      "source": [
        "imported = drive.CreateFile({'id': id})\n",
        "imported.GetContentFile('Fake.csv')"
      ],
      "execution_count": 5,
      "outputs": []
    },
    {
      "cell_type": "code",
      "metadata": {
        "id": "yOD6RLoGE86V"
      },
      "source": [
        "id = \"1ZST3zJOYdlG_lkLM5xoSF_dvM7n-bcut\""
      ],
      "execution_count": 6,
      "outputs": []
    },
    {
      "cell_type": "code",
      "metadata": {
        "id": "vBuUW-q41tb7"
      },
      "source": [
        "imported = drive.CreateFile({'id': id})\n",
        "imported.GetContentFile('True.csv')"
      ],
      "execution_count": 7,
      "outputs": []
    },
    {
      "cell_type": "markdown",
      "metadata": {
        "id": "KAvknaKkZHyn"
      },
      "source": [
        "**Converting .csv files to pandas**"
      ]
    },
    {
      "cell_type": "code",
      "metadata": {
        "id": "J0nvPAiJEx-M"
      },
      "source": [
        "import pandas as pd"
      ],
      "execution_count": 8,
      "outputs": []
    },
    {
      "cell_type": "code",
      "metadata": {
        "id": "KBuaOtYQG2wN"
      },
      "source": [
        "df_true_news = pd.read_csv('True.csv')"
      ],
      "execution_count": 9,
      "outputs": []
    },
    {
      "cell_type": "code",
      "metadata": {
        "id": "RxZPMX5aHJbg"
      },
      "source": [
        "df_fake_news = pd.read_csv('Fake.csv')"
      ],
      "execution_count": 10,
      "outputs": []
    },
    {
      "cell_type": "code",
      "metadata": {
        "colab": {
          "base_uri": "https://localhost:8080/",
          "height": 665
        },
        "id": "-6SyKE_9Hf_R",
        "outputId": "1eb66795-42dc-4aec-abfb-22b905a9b6ab"
      },
      "source": [
        "df_fake_news.head(20)"
      ],
      "execution_count": 11,
      "outputs": [
        {
          "output_type": "execute_result",
          "data": {
            "text/html": [
              "<div>\n",
              "<style scoped>\n",
              "    .dataframe tbody tr th:only-of-type {\n",
              "        vertical-align: middle;\n",
              "    }\n",
              "\n",
              "    .dataframe tbody tr th {\n",
              "        vertical-align: top;\n",
              "    }\n",
              "\n",
              "    .dataframe thead th {\n",
              "        text-align: right;\n",
              "    }\n",
              "</style>\n",
              "<table border=\"1\" class=\"dataframe\">\n",
              "  <thead>\n",
              "    <tr style=\"text-align: right;\">\n",
              "      <th></th>\n",
              "      <th>title</th>\n",
              "      <th>text</th>\n",
              "      <th>subject</th>\n",
              "      <th>date</th>\n",
              "    </tr>\n",
              "  </thead>\n",
              "  <tbody>\n",
              "    <tr>\n",
              "      <th>0</th>\n",
              "      <td>Donald Trump Sends Out Embarrassing New Year’...</td>\n",
              "      <td>Donald Trump just couldn t wish all Americans ...</td>\n",
              "      <td>News</td>\n",
              "      <td>December 31, 2017</td>\n",
              "    </tr>\n",
              "    <tr>\n",
              "      <th>1</th>\n",
              "      <td>Drunk Bragging Trump Staffer Started Russian ...</td>\n",
              "      <td>House Intelligence Committee Chairman Devin Nu...</td>\n",
              "      <td>News</td>\n",
              "      <td>December 31, 2017</td>\n",
              "    </tr>\n",
              "    <tr>\n",
              "      <th>2</th>\n",
              "      <td>Sheriff David Clarke Becomes An Internet Joke...</td>\n",
              "      <td>On Friday, it was revealed that former Milwauk...</td>\n",
              "      <td>News</td>\n",
              "      <td>December 30, 2017</td>\n",
              "    </tr>\n",
              "    <tr>\n",
              "      <th>3</th>\n",
              "      <td>Trump Is So Obsessed He Even Has Obama’s Name...</td>\n",
              "      <td>On Christmas day, Donald Trump announced that ...</td>\n",
              "      <td>News</td>\n",
              "      <td>December 29, 2017</td>\n",
              "    </tr>\n",
              "    <tr>\n",
              "      <th>4</th>\n",
              "      <td>Pope Francis Just Called Out Donald Trump Dur...</td>\n",
              "      <td>Pope Francis used his annual Christmas Day mes...</td>\n",
              "      <td>News</td>\n",
              "      <td>December 25, 2017</td>\n",
              "    </tr>\n",
              "    <tr>\n",
              "      <th>5</th>\n",
              "      <td>Racist Alabama Cops Brutalize Black Boy While...</td>\n",
              "      <td>The number of cases of cops brutalizing and ki...</td>\n",
              "      <td>News</td>\n",
              "      <td>December 25, 2017</td>\n",
              "    </tr>\n",
              "    <tr>\n",
              "      <th>6</th>\n",
              "      <td>Fresh Off The Golf Course, Trump Lashes Out A...</td>\n",
              "      <td>Donald Trump spent a good portion of his day a...</td>\n",
              "      <td>News</td>\n",
              "      <td>December 23, 2017</td>\n",
              "    </tr>\n",
              "    <tr>\n",
              "      <th>7</th>\n",
              "      <td>Trump Said Some INSANELY Racist Stuff Inside ...</td>\n",
              "      <td>In the wake of yet another court decision that...</td>\n",
              "      <td>News</td>\n",
              "      <td>December 23, 2017</td>\n",
              "    </tr>\n",
              "    <tr>\n",
              "      <th>8</th>\n",
              "      <td>Former CIA Director Slams Trump Over UN Bully...</td>\n",
              "      <td>Many people have raised the alarm regarding th...</td>\n",
              "      <td>News</td>\n",
              "      <td>December 22, 2017</td>\n",
              "    </tr>\n",
              "    <tr>\n",
              "      <th>9</th>\n",
              "      <td>WATCH: Brand-New Pro-Trump Ad Features So Muc...</td>\n",
              "      <td>Just when you might have thought we d get a br...</td>\n",
              "      <td>News</td>\n",
              "      <td>December 21, 2017</td>\n",
              "    </tr>\n",
              "    <tr>\n",
              "      <th>10</th>\n",
              "      <td>Papa John’s Founder Retires, Figures Out Raci...</td>\n",
              "      <td>A centerpiece of Donald Trump s campaign, and ...</td>\n",
              "      <td>News</td>\n",
              "      <td>December 21, 2017</td>\n",
              "    </tr>\n",
              "    <tr>\n",
              "      <th>11</th>\n",
              "      <td>WATCH: Paul Ryan Just Told Us He Doesn’t Care...</td>\n",
              "      <td>Republicans are working overtime trying to sel...</td>\n",
              "      <td>News</td>\n",
              "      <td>December 21, 2017</td>\n",
              "    </tr>\n",
              "    <tr>\n",
              "      <th>12</th>\n",
              "      <td>Bad News For Trump — Mitch McConnell Says No ...</td>\n",
              "      <td>Republicans have had seven years to come up wi...</td>\n",
              "      <td>News</td>\n",
              "      <td>December 21, 2017</td>\n",
              "    </tr>\n",
              "    <tr>\n",
              "      <th>13</th>\n",
              "      <td>WATCH: Lindsey Graham Trashes Media For Portr...</td>\n",
              "      <td>The media has been talking all day about Trump...</td>\n",
              "      <td>News</td>\n",
              "      <td>December 20, 2017</td>\n",
              "    </tr>\n",
              "    <tr>\n",
              "      <th>14</th>\n",
              "      <td>Heiress To Disney Empire Knows GOP Scammed Us...</td>\n",
              "      <td>Abigail Disney is an heiress with brass ovarie...</td>\n",
              "      <td>News</td>\n",
              "      <td>December 20, 2017</td>\n",
              "    </tr>\n",
              "    <tr>\n",
              "      <th>15</th>\n",
              "      <td>Tone Deaf Trump: Congrats Rep. Scalise On Los...</td>\n",
              "      <td>Donald Trump just signed the GOP tax scam into...</td>\n",
              "      <td>News</td>\n",
              "      <td>December 20, 2017</td>\n",
              "    </tr>\n",
              "    <tr>\n",
              "      <th>16</th>\n",
              "      <td>The Internet Brutally Mocks Disney’s New Trum...</td>\n",
              "      <td>A new animatronic figure in the Hall of Presid...</td>\n",
              "      <td>News</td>\n",
              "      <td>December 19, 2017</td>\n",
              "    </tr>\n",
              "    <tr>\n",
              "      <th>17</th>\n",
              "      <td>Mueller Spokesman Just F-cked Up Donald Trump...</td>\n",
              "      <td>Trump supporters and the so-called president s...</td>\n",
              "      <td>News</td>\n",
              "      <td>December 17, 2017</td>\n",
              "    </tr>\n",
              "    <tr>\n",
              "      <th>18</th>\n",
              "      <td>SNL Hilariously Mocks Accused Child Molester ...</td>\n",
              "      <td>Right now, the whole world is looking at the s...</td>\n",
              "      <td>News</td>\n",
              "      <td>December 17, 2017</td>\n",
              "    </tr>\n",
              "    <tr>\n",
              "      <th>19</th>\n",
              "      <td>Republican Senator Gets Dragged For Going Aft...</td>\n",
              "      <td>Senate Majority Whip John Cornyn (R-TX) though...</td>\n",
              "      <td>News</td>\n",
              "      <td>December 16, 2017</td>\n",
              "    </tr>\n",
              "  </tbody>\n",
              "</table>\n",
              "</div>"
            ],
            "text/plain": [
              "                                                title  ...               date\n",
              "0    Donald Trump Sends Out Embarrassing New Year’...  ...  December 31, 2017\n",
              "1    Drunk Bragging Trump Staffer Started Russian ...  ...  December 31, 2017\n",
              "2    Sheriff David Clarke Becomes An Internet Joke...  ...  December 30, 2017\n",
              "3    Trump Is So Obsessed He Even Has Obama’s Name...  ...  December 29, 2017\n",
              "4    Pope Francis Just Called Out Donald Trump Dur...  ...  December 25, 2017\n",
              "5    Racist Alabama Cops Brutalize Black Boy While...  ...  December 25, 2017\n",
              "6    Fresh Off The Golf Course, Trump Lashes Out A...  ...  December 23, 2017\n",
              "7    Trump Said Some INSANELY Racist Stuff Inside ...  ...  December 23, 2017\n",
              "8    Former CIA Director Slams Trump Over UN Bully...  ...  December 22, 2017\n",
              "9    WATCH: Brand-New Pro-Trump Ad Features So Muc...  ...  December 21, 2017\n",
              "10   Papa John’s Founder Retires, Figures Out Raci...  ...  December 21, 2017\n",
              "11   WATCH: Paul Ryan Just Told Us He Doesn’t Care...  ...  December 21, 2017\n",
              "12   Bad News For Trump — Mitch McConnell Says No ...  ...  December 21, 2017\n",
              "13   WATCH: Lindsey Graham Trashes Media For Portr...  ...  December 20, 2017\n",
              "14   Heiress To Disney Empire Knows GOP Scammed Us...  ...  December 20, 2017\n",
              "15   Tone Deaf Trump: Congrats Rep. Scalise On Los...  ...  December 20, 2017\n",
              "16   The Internet Brutally Mocks Disney’s New Trum...  ...  December 19, 2017\n",
              "17   Mueller Spokesman Just F-cked Up Donald Trump...  ...  December 17, 2017\n",
              "18   SNL Hilariously Mocks Accused Child Molester ...  ...  December 17, 2017\n",
              "19   Republican Senator Gets Dragged For Going Aft...  ...  December 16, 2017\n",
              "\n",
              "[20 rows x 4 columns]"
            ]
          },
          "metadata": {
            "tags": []
          },
          "execution_count": 11
        }
      ]
    },
    {
      "cell_type": "code",
      "metadata": {
        "colab": {
          "base_uri": "https://localhost:8080/",
          "height": 665
        },
        "id": "3azypmb-Lw5C",
        "outputId": "077e6086-669c-46e2-bc77-a49f4c23f9ad"
      },
      "source": [
        "df_true_news.head(20)"
      ],
      "execution_count": 12,
      "outputs": [
        {
          "output_type": "execute_result",
          "data": {
            "text/html": [
              "<div>\n",
              "<style scoped>\n",
              "    .dataframe tbody tr th:only-of-type {\n",
              "        vertical-align: middle;\n",
              "    }\n",
              "\n",
              "    .dataframe tbody tr th {\n",
              "        vertical-align: top;\n",
              "    }\n",
              "\n",
              "    .dataframe thead th {\n",
              "        text-align: right;\n",
              "    }\n",
              "</style>\n",
              "<table border=\"1\" class=\"dataframe\">\n",
              "  <thead>\n",
              "    <tr style=\"text-align: right;\">\n",
              "      <th></th>\n",
              "      <th>title</th>\n",
              "      <th>text</th>\n",
              "      <th>subject</th>\n",
              "      <th>date</th>\n",
              "    </tr>\n",
              "  </thead>\n",
              "  <tbody>\n",
              "    <tr>\n",
              "      <th>0</th>\n",
              "      <td>As U.S. budget fight looms, Republicans flip t...</td>\n",
              "      <td>WASHINGTON (Reuters) - The head of a conservat...</td>\n",
              "      <td>politicsNews</td>\n",
              "      <td>December 31, 2017</td>\n",
              "    </tr>\n",
              "    <tr>\n",
              "      <th>1</th>\n",
              "      <td>U.S. military to accept transgender recruits o...</td>\n",
              "      <td>WASHINGTON (Reuters) - Transgender people will...</td>\n",
              "      <td>politicsNews</td>\n",
              "      <td>December 29, 2017</td>\n",
              "    </tr>\n",
              "    <tr>\n",
              "      <th>2</th>\n",
              "      <td>Senior U.S. Republican senator: 'Let Mr. Muell...</td>\n",
              "      <td>WASHINGTON (Reuters) - The special counsel inv...</td>\n",
              "      <td>politicsNews</td>\n",
              "      <td>December 31, 2017</td>\n",
              "    </tr>\n",
              "    <tr>\n",
              "      <th>3</th>\n",
              "      <td>FBI Russia probe helped by Australian diplomat...</td>\n",
              "      <td>WASHINGTON (Reuters) - Trump campaign adviser ...</td>\n",
              "      <td>politicsNews</td>\n",
              "      <td>December 30, 2017</td>\n",
              "    </tr>\n",
              "    <tr>\n",
              "      <th>4</th>\n",
              "      <td>Trump wants Postal Service to charge 'much mor...</td>\n",
              "      <td>SEATTLE/WASHINGTON (Reuters) - President Donal...</td>\n",
              "      <td>politicsNews</td>\n",
              "      <td>December 29, 2017</td>\n",
              "    </tr>\n",
              "    <tr>\n",
              "      <th>5</th>\n",
              "      <td>White House, Congress prepare for talks on spe...</td>\n",
              "      <td>WEST PALM BEACH, Fla./WASHINGTON (Reuters) - T...</td>\n",
              "      <td>politicsNews</td>\n",
              "      <td>December 29, 2017</td>\n",
              "    </tr>\n",
              "    <tr>\n",
              "      <th>6</th>\n",
              "      <td>Trump says Russia probe will be fair, but time...</td>\n",
              "      <td>WEST PALM BEACH, Fla (Reuters) - President Don...</td>\n",
              "      <td>politicsNews</td>\n",
              "      <td>December 29, 2017</td>\n",
              "    </tr>\n",
              "    <tr>\n",
              "      <th>7</th>\n",
              "      <td>Factbox: Trump on Twitter (Dec 29) - Approval ...</td>\n",
              "      <td>The following statements were posted to the ve...</td>\n",
              "      <td>politicsNews</td>\n",
              "      <td>December 29, 2017</td>\n",
              "    </tr>\n",
              "    <tr>\n",
              "      <th>8</th>\n",
              "      <td>Trump on Twitter (Dec 28) - Global Warming</td>\n",
              "      <td>The following statements were posted to the ve...</td>\n",
              "      <td>politicsNews</td>\n",
              "      <td>December 29, 2017</td>\n",
              "    </tr>\n",
              "    <tr>\n",
              "      <th>9</th>\n",
              "      <td>Alabama official to certify Senator-elect Jone...</td>\n",
              "      <td>WASHINGTON (Reuters) - Alabama Secretary of St...</td>\n",
              "      <td>politicsNews</td>\n",
              "      <td>December 28, 2017</td>\n",
              "    </tr>\n",
              "    <tr>\n",
              "      <th>10</th>\n",
              "      <td>Jones certified U.S. Senate winner despite Moo...</td>\n",
              "      <td>(Reuters) - Alabama officials on Thursday cert...</td>\n",
              "      <td>politicsNews</td>\n",
              "      <td>December 28, 2017</td>\n",
              "    </tr>\n",
              "    <tr>\n",
              "      <th>11</th>\n",
              "      <td>New York governor questions the constitutional...</td>\n",
              "      <td>NEW YORK/WASHINGTON (Reuters) - The new U.S. t...</td>\n",
              "      <td>politicsNews</td>\n",
              "      <td>December 28, 2017</td>\n",
              "    </tr>\n",
              "    <tr>\n",
              "      <th>12</th>\n",
              "      <td>Factbox: Trump on Twitter (Dec 28) - Vanity Fa...</td>\n",
              "      <td>The following statements were posted to the ve...</td>\n",
              "      <td>politicsNews</td>\n",
              "      <td>December 28, 2017</td>\n",
              "    </tr>\n",
              "    <tr>\n",
              "      <th>13</th>\n",
              "      <td>Trump on Twitter (Dec 27) - Trump, Iraq, Syria</td>\n",
              "      <td>The following statements were posted to the ve...</td>\n",
              "      <td>politicsNews</td>\n",
              "      <td>December 28, 2017</td>\n",
              "    </tr>\n",
              "    <tr>\n",
              "      <th>14</th>\n",
              "      <td>Man says he delivered manure to Mnuchin to pro...</td>\n",
              "      <td>(In Dec. 25 story, in second paragraph, corre...</td>\n",
              "      <td>politicsNews</td>\n",
              "      <td>December 25, 2017</td>\n",
              "    </tr>\n",
              "    <tr>\n",
              "      <th>15</th>\n",
              "      <td>Virginia officials postpone lottery drawing to...</td>\n",
              "      <td>(Reuters) - A lottery drawing to settle a tied...</td>\n",
              "      <td>politicsNews</td>\n",
              "      <td>December 27, 2017</td>\n",
              "    </tr>\n",
              "    <tr>\n",
              "      <th>16</th>\n",
              "      <td>U.S. lawmakers question businessman at 2016 Tr...</td>\n",
              "      <td>WASHINGTON (Reuters) - A Georgian-American bus...</td>\n",
              "      <td>politicsNews</td>\n",
              "      <td>December 27, 2017</td>\n",
              "    </tr>\n",
              "    <tr>\n",
              "      <th>17</th>\n",
              "      <td>Trump on Twitter (Dec 26) - Hillary Clinton, T...</td>\n",
              "      <td>The following statements were posted to the ve...</td>\n",
              "      <td>politicsNews</td>\n",
              "      <td>December 26, 2017</td>\n",
              "    </tr>\n",
              "    <tr>\n",
              "      <th>18</th>\n",
              "      <td>U.S. appeals court rejects challenge to Trump ...</td>\n",
              "      <td>(Reuters) - A U.S. appeals court in Washington...</td>\n",
              "      <td>politicsNews</td>\n",
              "      <td>December 26, 2017</td>\n",
              "    </tr>\n",
              "    <tr>\n",
              "      <th>19</th>\n",
              "      <td>Treasury Secretary Mnuchin was sent gift-wrapp...</td>\n",
              "      <td>(Reuters) - A gift-wrapped package addressed t...</td>\n",
              "      <td>politicsNews</td>\n",
              "      <td>December 24, 2017</td>\n",
              "    </tr>\n",
              "  </tbody>\n",
              "</table>\n",
              "</div>"
            ],
            "text/plain": [
              "                                                title  ...                date\n",
              "0   As U.S. budget fight looms, Republicans flip t...  ...  December 31, 2017 \n",
              "1   U.S. military to accept transgender recruits o...  ...  December 29, 2017 \n",
              "2   Senior U.S. Republican senator: 'Let Mr. Muell...  ...  December 31, 2017 \n",
              "3   FBI Russia probe helped by Australian diplomat...  ...  December 30, 2017 \n",
              "4   Trump wants Postal Service to charge 'much mor...  ...  December 29, 2017 \n",
              "5   White House, Congress prepare for talks on spe...  ...  December 29, 2017 \n",
              "6   Trump says Russia probe will be fair, but time...  ...  December 29, 2017 \n",
              "7   Factbox: Trump on Twitter (Dec 29) - Approval ...  ...  December 29, 2017 \n",
              "8          Trump on Twitter (Dec 28) - Global Warming  ...  December 29, 2017 \n",
              "9   Alabama official to certify Senator-elect Jone...  ...  December 28, 2017 \n",
              "10  Jones certified U.S. Senate winner despite Moo...  ...  December 28, 2017 \n",
              "11  New York governor questions the constitutional...  ...  December 28, 2017 \n",
              "12  Factbox: Trump on Twitter (Dec 28) - Vanity Fa...  ...  December 28, 2017 \n",
              "13     Trump on Twitter (Dec 27) - Trump, Iraq, Syria  ...  December 28, 2017 \n",
              "14  Man says he delivered manure to Mnuchin to pro...  ...  December 25, 2017 \n",
              "15  Virginia officials postpone lottery drawing to...  ...  December 27, 2017 \n",
              "16  U.S. lawmakers question businessman at 2016 Tr...  ...  December 27, 2017 \n",
              "17  Trump on Twitter (Dec 26) - Hillary Clinton, T...  ...  December 26, 2017 \n",
              "18  U.S. appeals court rejects challenge to Trump ...  ...  December 26, 2017 \n",
              "19  Treasury Secretary Mnuchin was sent gift-wrapp...  ...  December 24, 2017 \n",
              "\n",
              "[20 rows x 4 columns]"
            ]
          },
          "metadata": {
            "tags": []
          },
          "execution_count": 12
        }
      ]
    },
    {
      "cell_type": "code",
      "metadata": {
        "colab": {
          "base_uri": "https://localhost:8080/"
        },
        "id": "FREKV-rGL6jJ",
        "outputId": "4e061214-d5d2-41b4-d454-fe52c28fca36"
      },
      "source": [
        "df_fake_news.count()"
      ],
      "execution_count": 13,
      "outputs": [
        {
          "output_type": "execute_result",
          "data": {
            "text/plain": [
              "title      23481\n",
              "text       23481\n",
              "subject    23481\n",
              "date       23481\n",
              "dtype: int64"
            ]
          },
          "metadata": {
            "tags": []
          },
          "execution_count": 13
        }
      ]
    },
    {
      "cell_type": "code",
      "metadata": {
        "colab": {
          "base_uri": "https://localhost:8080/"
        },
        "id": "yE_tK9g-MEnf",
        "outputId": "fece037f-f0c2-463a-9505-c26ca5b82c39"
      },
      "source": [
        "df_true_news.count()"
      ],
      "execution_count": 14,
      "outputs": [
        {
          "output_type": "execute_result",
          "data": {
            "text/plain": [
              "title      21417\n",
              "text       21417\n",
              "subject    21417\n",
              "date       21417\n",
              "dtype: int64"
            ]
          },
          "metadata": {
            "tags": []
          },
          "execution_count": 14
        }
      ]
    },
    {
      "cell_type": "markdown",
      "metadata": {
        "id": "gG6L_FmNNDzk"
      },
      "source": [
        "**Writing functions for finding missing values, duplicates and removing them**"
      ]
    },
    {
      "cell_type": "code",
      "metadata": {
        "id": "eCLes7BNMHjg"
      },
      "source": [
        "def find_missing_vals(data):\n",
        "    total = len(data)\n",
        "    for column in data.columns:\n",
        "      if data[column].isna().sum() !=0:\n",
        "          print(\"{} has: {:,} ({:,2}%) missing values.\".format(column, data[column].isna.sum(), (data[column].isna().sum()/total)*100))\n",
        "      else:\n",
        "          print(\"{} has no any missing value\".format(column))\n",
        "    print(\"\\nMissing Value summary\\n{}\".format(\"-\"*35))\n",
        "    print(\"\\ndf_db\\n{}\".format(\"-\"*15))\n",
        "    print(data.isnull().sum(axis=0))"
      ],
      "execution_count": 15,
      "outputs": []
    },
    {
      "cell_type": "code",
      "metadata": {
        "id": "vCA13baDlMhp"
      },
      "source": [
        "def remove_duplicates(data):\n",
        "    print(\"\\nCleaning Summary\\n{}\".format(\"-\"*35))\n",
        "    size_before = len(data)\n",
        "    data.drop_duplicates(subset=None, keep=\"first\", inplace=True)\n",
        "    size_after = len(data)\n",
        "    print(\"... removed {} duplicate rows in db data\".format(size_before-size_after))"
      ],
      "execution_count": 16,
      "outputs": []
    },
    {
      "cell_type": "code",
      "metadata": {
        "colab": {
          "base_uri": "https://localhost:8080/"
        },
        "id": "sXaM9Z5bpulv",
        "outputId": "6f246a7e-2ea6-438f-9091-d89af62195ce"
      },
      "source": [
        "find_missing_vals(df_fake_news)"
      ],
      "execution_count": 17,
      "outputs": [
        {
          "output_type": "stream",
          "text": [
            "title has no any missing value\n",
            "text has no any missing value\n",
            "subject has no any missing value\n",
            "date has no any missing value\n",
            "\n",
            "Missing Value summary\n",
            "-----------------------------------\n",
            "\n",
            "df_db\n",
            "---------------\n",
            "title      0\n",
            "text       0\n",
            "subject    0\n",
            "date       0\n",
            "dtype: int64\n"
          ],
          "name": "stdout"
        }
      ]
    },
    {
      "cell_type": "code",
      "metadata": {
        "colab": {
          "base_uri": "https://localhost:8080/"
        },
        "id": "8v3GA9R6pz0O",
        "outputId": "d76c34d5-96b5-481b-edfe-5fa42483c717"
      },
      "source": [
        "find_missing_vals(df_true_news)"
      ],
      "execution_count": 18,
      "outputs": [
        {
          "output_type": "stream",
          "text": [
            "title has no any missing value\n",
            "text has no any missing value\n",
            "subject has no any missing value\n",
            "date has no any missing value\n",
            "\n",
            "Missing Value summary\n",
            "-----------------------------------\n",
            "\n",
            "df_db\n",
            "---------------\n",
            "title      0\n",
            "text       0\n",
            "subject    0\n",
            "date       0\n",
            "dtype: int64\n"
          ],
          "name": "stdout"
        }
      ]
    },
    {
      "cell_type": "code",
      "metadata": {
        "colab": {
          "base_uri": "https://localhost:8080/"
        },
        "id": "Yeo7DF5pslOZ",
        "outputId": "fc17b575-6e41-4769-a38e-3b5738b253a6"
      },
      "source": [
        "remove_duplicates(df_fake_news)"
      ],
      "execution_count": 19,
      "outputs": [
        {
          "output_type": "stream",
          "text": [
            "\n",
            "Cleaning Summary\n",
            "-----------------------------------\n",
            "... removed 3 duplicate rows in db data\n"
          ],
          "name": "stdout"
        }
      ]
    },
    {
      "cell_type": "code",
      "metadata": {
        "colab": {
          "base_uri": "https://localhost:8080/"
        },
        "id": "9sfk_W63sr9Y",
        "outputId": "706d2304-ec72-4581-de71-d77918d78001"
      },
      "source": [
        "remove_duplicates(df_true_news)"
      ],
      "execution_count": 20,
      "outputs": [
        {
          "output_type": "stream",
          "text": [
            "\n",
            "Cleaning Summary\n",
            "-----------------------------------\n",
            "... removed 206 duplicate rows in db data\n"
          ],
          "name": "stdout"
        }
      ]
    },
    {
      "cell_type": "markdown",
      "metadata": {
        "id": "DATqGLAWtUAi"
      },
      "source": [
        "**Seaborn plots for info**\n"
      ]
    },
    {
      "cell_type": "code",
      "metadata": {
        "id": "6xh6_ucjumbr"
      },
      "source": [
        "df_merged = pd.merge(df_fake_news, df_true_news, how='outer')"
      ],
      "execution_count": 21,
      "outputs": []
    },
    {
      "cell_type": "code",
      "metadata": {
        "colab": {
          "base_uri": "https://localhost:8080/",
          "height": 382
        },
        "id": "ABYgsU-rsxyN",
        "outputId": "c0ae55a8-0d8c-49b6-e8f4-a975d0581348"
      },
      "source": [
        "import seaborn as sns\n",
        "import matplotlib.pyplot as plt\n",
        "sns.set(style=\"ticks\", color_codes=True)\n",
        "fig_dims=(20, 4.8)\n",
        "fig, ax = plt.subplots(figsize=fig_dims)\n",
        "sns.countplot(df_merged['subject'], ax=ax, data=df_merged);"
      ],
      "execution_count": 22,
      "outputs": [
        {
          "output_type": "stream",
          "text": [
            "/usr/local/lib/python3.7/dist-packages/seaborn/_decorators.py:43: FutureWarning: Pass the following variable as a keyword arg: x. From version 0.12, the only valid positional argument will be `data`, and passing other arguments without an explicit keyword will result in an error or misinterpretation.\n",
            "  FutureWarning\n"
          ],
          "name": "stderr"
        },
        {
          "output_type": "display_data",
          "data": {
            "image/png": "[encoded data removed]",
            "text/plain": [
              "<Figure size 1440x345.6 with 1 Axes>"
            ]
          },
          "metadata": {
            "tags": []
          }
        }
      ]
    },
    {
      "cell_type": "markdown",
      "metadata": {
        "id": "UtWh0LW2w2JS"
      },
      "source": [
        "Next part is labeling so that we will proceed to binary classification.\n",
        "\n"
      ]
    },
    {
      "cell_type": "code",
      "metadata": {
        "id": "0HrBlJB7uazC"
      },
      "source": [
        "df_fake_news['label'] = 0\n",
        "df_true_news['label'] = 1"
      ],
      "execution_count": 23,
      "outputs": []
    },
    {
      "cell_type": "markdown",
      "metadata": {
        "id": "fEG4E5Zvxrq8"
      },
      "source": [
        "**Merging into one dataset for training**"
      ]
    },
    {
      "cell_type": "code",
      "metadata": {
        "id": "Oy6u-Wbdxe18"
      },
      "source": [
        "df_train = pd.merge(df_fake_news,df_true_news, how = 'outer')"
      ],
      "execution_count": 24,
      "outputs": []
    },
    {
      "cell_type": "markdown",
      "metadata": {
        "id": "7pYVHov1yYvw"
      },
      "source": [
        "**Using deep learning technique**"
      ]
    },
    {
      "cell_type": "code",
      "metadata": {
        "id": "q4C4fh2jx5UD"
      },
      "source": [
        "from sklearn.feature_extraction.text import CountVectorizer\n",
        "from sklearn.feature_extraction.text import TfidfTransformer"
      ],
      "execution_count": 25,
      "outputs": []
    },
    {
      "cell_type": "markdown",
      "metadata": {
        "id": "W1QNuB9xzOpS"
      },
      "source": [
        "**Removing punctuation marks**"
      ]
    },
    {
      "cell_type": "code",
      "metadata": {
        "id": "POWP6PnizDzg"
      },
      "source": [
        "import string"
      ],
      "execution_count": 26,
      "outputs": []
    },
    {
      "cell_type": "code",
      "metadata": {
        "id": "O-JG62fwzrJ6"
      },
      "source": [
        "from nltk.corpus import stopwords"
      ],
      "execution_count": 27,
      "outputs": []
    },
    {
      "cell_type": "code",
      "metadata": {
        "colab": {
          "base_uri": "https://localhost:8080/"
        },
        "id": "Sk6ANK2-zyBd",
        "outputId": "3791ff95-5494-4cdd-cd48-c912cdb2d0aa"
      },
      "source": [
        "import nltk\n",
        "nltk.download('stopwords')"
      ],
      "execution_count": 28,
      "outputs": [
        {
          "output_type": "stream",
          "text": [
            "[nltk_data] Downloading package stopwords to /root/nltk_data...\n",
            "[nltk_data]   Unzipping corpora/stopwords.zip.\n"
          ],
          "name": "stdout"
        },
        {
          "output_type": "execute_result",
          "data": {
            "text/plain": [
              "True"
            ]
          },
          "metadata": {
            "tags": []
          },
          "execution_count": 28
        }
      ]
    },
    {
      "cell_type": "code",
      "metadata": {
        "id": "NkhLtmM1z7Ey"
      },
      "source": [
        "def text_process(text):\n",
        "  no_punctuation = [char for char in text if char not in string.punctuation]\n",
        "  no_punctuation = ''.join(no_punctuation)\n",
        "  return [word for word in no_punctuation.split() if word.lower() not in stopwords.words('english')]"
      ],
      "execution_count": 29,
      "outputs": []
    },
    {
      "cell_type": "markdown",
      "metadata": {
        "id": "Z7-s4DRR0vsa"
      },
      "source": [
        "**Model creation and training**"
      ]
    },
    {
      "cell_type": "code",
      "metadata": {
        "id": "I3KpZZ7c04td"
      },
      "source": [
        "from sklearn.model_selection import train_test_split"
      ],
      "execution_count": 30,
      "outputs": []
    },
    {
      "cell_type": "code",
      "metadata": {
        "id": "jvKOVX9E1NjC"
      },
      "source": [
        "X_train, X_test, Y_train, Y_test = train_test_split(df_train['title'], df_train['label'], test_size=0.2, random_state=42)"
      ],
      "execution_count": 31,
      "outputs": []
    },
    {
      "cell_type": "markdown",
      "metadata": {
        "id": "1RX_UXGz17dL"
      },
      "source": [
        "**MLP binary classifier** (Prediction)"
      ]
    },
    {
      "cell_type": "code",
      "metadata": {
        "id": "hRg2WVWt1Kxn"
      },
      "source": [
        "from sklearn.neural_network import MLPClassifier"
      ],
      "execution_count": 32,
      "outputs": []
    },
    {
      "cell_type": "code",
      "metadata": {
        "id": "hfv76t8L2Lu0"
      },
      "source": [
        "from sklearn.pipeline import Pipeline\n",
        "\n",
        "new_classifier = Pipeline([\n",
        "('vectorizer', CountVectorizer(analyzer=text_process)),\n",
        "('tfidf', TfidfTransformer()),\n",
        "('classifier', MLPClassifier(solver='adam', activation='tanh', random_state=1, max_iter=200, early_stopping=True))\n",
        "])"
      ],
      "execution_count": 33,
      "outputs": []
    },
    {
      "cell_type": "code",
      "metadata": {
        "colab": {
          "base_uri": "https://localhost:8080/"
        },
        "id": "x9jO0ZQO3OWW",
        "outputId": "4cba523a-e27d-4f8c-a202-570ad1ce50a9"
      },
      "source": [
        "new_classifier.fit(X_train, Y_train)"
      ],
      "execution_count": 34,
      "outputs": [
        {
          "output_type": "execute_result",
          "data": {
            "text/plain": [
              "Pipeline(memory=None,\n",
              "         steps=[('vectorizer',\n",
              "                 CountVectorizer(analyzer=<function text_process at 0x7f9548fe85f0>,\n",
              "                                 binary=False, decode_error='strict',\n",
              "                                 dtype=<class 'numpy.int64'>, encoding='utf-8',\n",
              "                                 input='content', lowercase=True, max_df=1.0,\n",
              "                                 max_features=None, min_df=1,\n",
              "                                 ngram_range=(1, 1), preprocessor=None,\n",
              "                                 stop_words=None, strip_accents=None,\n",
              "                                 token_pattern='(?u)\\\\b\\\\w...\n",
              "                               batch_size='auto', beta_1=0.9, beta_2=0.999,\n",
              "                               early_stopping=True, epsilon=1e-08,\n",
              "                               hidden_layer_sizes=(100,),\n",
              "                               learning_rate='constant',\n",
              "                               learning_rate_init=0.001, max_fun=15000,\n",
              "                               max_iter=200, momentum=0.9, n_iter_no_change=10,\n",
              "                               nesterovs_momentum=True, power_t=0.5,\n",
              "                               random_state=1, shuffle=True, solver='adam',\n",
              "                               tol=0.0001, validation_fraction=0.1,\n",
              "                               verbose=False, warm_start=False))],\n",
              "         verbose=False)"
            ]
          },
          "metadata": {
            "tags": []
          },
          "execution_count": 34
        }
      ]
    },
    {
      "cell_type": "markdown",
      "metadata": {
        "id": "E2mVYsU841us"
      },
      "source": [
        "**Model evaluation**"
      ]
    },
    {
      "cell_type": "code",
      "metadata": {
        "id": "P2Be3W2W452t"
      },
      "source": [
        "predicted = new_classifier.predict(X_test)"
      ],
      "execution_count": 35,
      "outputs": []
    },
    {
      "cell_type": "code",
      "metadata": {
        "id": "HfxieWUJ5MUR"
      },
      "source": [
        "from sklearn.metrics import classification_report "
      ],
      "execution_count": 36,
      "outputs": []
    },
    {
      "cell_type": "code",
      "metadata": {
        "colab": {
          "base_uri": "https://localhost:8080/"
        },
        "id": "402Ws6TY5Wla",
        "outputId": "a2a9f409-3a8a-4aea-c2ca-463da69d3aa4"
      },
      "source": [
        "print(classification_report(predicted, Y_test))"
      ],
      "execution_count": 37,
      "outputs": [
        {
          "output_type": "stream",
          "text": [
            "              precision    recall  f1-score   support\n",
            "\n",
            "           0       1.00      1.00      1.00      4731\n",
            "           1       1.00      1.00      1.00      4207\n",
            "\n",
            "    accuracy                           1.00      8938\n",
            "   macro avg       1.00      1.00      1.00      8938\n",
            "weighted avg       1.00      1.00      1.00      8938\n",
            "\n"
          ],
          "name": "stdout"
        }
      ]
    },
    {
      "cell_type": "markdown",
      "metadata": {
        "id": "vXXXiurh50ml"
      },
      "source": [
        "**Saving and downloading your model** (.pkl File)"
      ]
    },
    {
      "cell_type": "code",
      "metadata": {
        "colab": {
          "base_uri": "https://localhost:8080/"
        },
        "id": "L0NOhd8M5oDt",
        "outputId": "7c8ea3db-81e5-4584-92f0-1756fd887e7d"
      },
      "source": [
        "from sklearn.externals import joblib"
      ],
      "execution_count": 38,
      "outputs": [
        {
          "output_type": "stream",
          "text": [
            "/usr/local/lib/python3.7/dist-packages/sklearn/externals/joblib/__init__.py:15: FutureWarning: sklearn.externals.joblib is deprecated in 0.21 and will be removed in 0.23. Please import this functionality directly from joblib, which can be installed with: pip install joblib. If this warning is raised when loading pickled models, you may need to re-serialize those models with scikit-learn 0.21+.\n",
            "  warnings.warn(msg, category=FutureWarning)\n"
          ],
          "name": "stderr"
        }
      ]
    },
    {
      "cell_type": "code",
      "metadata": {
        "colab": {
          "base_uri": "https://localhost:8080/"
        },
        "id": "nddUIQB26AlD",
        "outputId": "76091c04-ef86-4ce8-de01-14bbc778e059"
      },
      "source": [
        "joblib.dump(new_classifier, 'model.pkl')"
      ],
      "execution_count": 39,
      "outputs": [
        {
          "output_type": "execute_result",
          "data": {
            "text/plain": [
              "['model.pkl']"
            ]
          },
          "metadata": {
            "tags": []
          },
          "execution_count": 39
        }
      ]
    },
    {
      "cell_type": "code",
      "metadata": {
        "id": "UJIN3-gs6SMj"
      },
      "source": [
        "from googleapiclient.discovery import build\n",
        "drive_service = build('drive', 'v3')"
      ],
      "execution_count": 40,
      "outputs": []
    },
    {
      "cell_type": "code",
      "metadata": {
        "colab": {
          "base_uri": "https://localhost:8080/"
        },
        "id": "GobEhOme7AtI",
        "outputId": "2ac74ebc-29a1-4285-894e-1cfefd341502"
      },
      "source": [
        "from googleapiclient.http import MediaFileUpload\n",
        "\n",
        "file_metadata = {\n",
        "    'name': 'model.pkl',\n",
        "    'mimeType': 'text/plain'\n",
        "}\n",
        "media = MediaFileUpload('model.pkl', mimetype='text/plain', resumable=True)\n",
        "created = drive_service.files().create(body=file_metadata,\n",
        "                                       media_body=media, \n",
        "                                       fields='id').execute()\n",
        "print('File ID: {}'.format(created.get('id')))"
      ],
      "execution_count": 41,
      "outputs": [
        {
          "output_type": "stream",
          "text": [
            "File ID: 1cgQKPwqiS4vzBPnqbU017QSwFX8MEq5I\n"
          ],
          "name": "stdout"
        }
      ]
    },
    {
      "cell_type": "markdown",
      "metadata": {
        "id": "DTyoIP1Z9crT"
      },
      "source": [
        "**Model deployment**"
      ]
    },
    {
      "cell_type": "code",
      "metadata": {
        "colab": {
          "base_uri": "https://localhost:8080/"
        },
        "id": "felkHN-y8TI-",
        "outputId": "76d76cfc-076b-48cd-99d2-f89ba5d948f3"
      },
      "source": [
        "news_title = ['Man has now landed on Mars']\n",
        "prediction = new_classifier.predict(news_title)\n",
        "print(prediction)"
      ],
      "execution_count": 42,
      "outputs": [
        {
          "output_type": "stream",
          "text": [
            "[0]\n"
          ],
          "name": "stdout"
        }
      ]
    },
    {
      "cell_type": "markdown",
      "metadata": {
        "id": "DADqKxn4WhfR"
      },
      "source": [
        "**All the packages used**"
      ]
    },
    {
      "cell_type": "code",
      "metadata": {
        "colab": {
          "base_uri": "https://localhost:8080/"
        },
        "id": "NosK_ZuA-cSF",
        "outputId": "faf17d9e-d660-47ae-99ac-b6e36fb14e7e"
      },
      "source": [
        "!pip list "
      ],
      "execution_count": 43,
      "outputs": [
        {
          "output_type": "stream",
          "text": [
            "Package                       Version            \n",
            "----------------------------- -------------------\n",
            "absl-py                       0.12.0             \n",
            "alabaster                     0.7.12             \n",
            "albumentations                0.1.12             \n",
            "altair                        4.1.0              \n",
            "appdirs                       1.4.4              \n",
            "argon2-cffi                   20.1.0             \n",
            "arviz                         0.11.2             \n",
            "astor                         0.8.1              \n",
            "astropy                       4.2.1              \n",
            "astunparse                    1.6.3              \n",
            "async-generator               1.10               \n",
            "atari-py                      0.2.9              \n",
            "atomicwrites                  1.4.0              \n",
            "attrs                         21.2.0             \n",
            "audioread                     2.1.9              \n",
            "autograd                      1.3                \n",
            "Babel                         2.9.1              \n",
            "backcall                      0.2.0              \n",
            "beautifulsoup4                4.6.3              \n",
            "bleach                        3.3.0              \n",
            "blis                          0.4.1              \n",
            "bokeh                         2.3.2              \n",
            "Bottleneck                    1.3.2              \n",
            "branca                        0.4.2              \n",
            "bs4                           0.0.1              \n",
            "CacheControl                  0.12.6             \n",
            "cached-property               1.5.2              \n",
            "cachetools                    4.2.2              \n",
            "catalogue                     1.0.0              \n",
            "certifi                       2021.5.30          \n",
            "cffi                          1.14.5             \n",
            "cftime                        1.5.0              \n",
            "chardet                       3.0.4              \n",
            "click                         7.1.2              \n",
            "cloudpickle                   1.3.0              \n",
            "cmake                         3.12.0             \n",
            "cmdstanpy                     0.9.5              \n",
            "colorcet                      2.0.6              \n",
            "colorlover                    0.3.0              \n",
            "community                     1.0.0b1            \n",
            "contextlib2                   0.5.5              \n",
            "convertdate                   2.3.2              \n",
            "coverage                      3.7.1              \n",
            "coveralls                     0.5                \n",
            "crcmod                        1.7                \n",
            "cufflinks                     0.17.3             \n",
            "cupy-cuda101                  9.1.0              \n",
            "cvxopt                        1.2.6              \n",
            "cvxpy                         1.0.31             \n",
            "cycler                        0.10.0             \n",
            "cymem                         2.0.5              \n",
            "Cython                        0.29.23            \n",
            "daft                          0.0.4              \n",
            "dask                          2.12.0             \n",
            "datascience                   0.10.6             \n",
            "debugpy                       1.0.0              \n",
            "decorator                     4.4.2              \n",
            "defusedxml                    0.7.1              \n",
            "descartes                     1.1.0              \n",
            "dill                          0.3.4              \n",
            "distributed                   1.25.3             \n",
            "dlib                          19.18.0            \n",
            "dm-tree                       0.1.6              \n",
            "docopt                        0.6.2              \n",
            "docutils                      0.17.1             \n",
            "dopamine-rl                   1.0.5              \n",
            "earthengine-api               0.1.272            \n",
            "easydict                      1.9                \n",
            "ecos                          2.0.7.post1        \n",
            "editdistance                  0.5.3              \n",
            "en-core-web-sm                2.2.5              \n",
            "entrypoints                   0.3                \n",
            "ephem                         4.0.0.2            \n",
            "et-xmlfile                    1.1.0              \n",
            "fa2                           0.3.5              \n",
            "fastai                        1.0.61             \n",
            "fastdtw                       0.3.4              \n",
            "fastprogress                  1.0.0              \n",
            "fastrlock                     0.6                \n",
            "fbprophet                     0.7.1              \n",
            "feather-format                0.4.1              \n",
            "filelock                      3.0.12             \n",
            "firebase-admin                4.4.0              \n",
            "fix-yahoo-finance             0.0.22             \n",
            "Flask                         1.1.4              \n",
            "flatbuffers                   1.12               \n",
            "folium                        0.8.3              \n",
            "future                        0.16.0             \n",
            "gast                          0.4.0              \n",
            "GDAL                          2.2.2              \n",
            "gdown                         3.6.4              \n",
            "gensim                        3.6.0              \n",
            "geographiclib                 1.52               \n",
            "geopy                         1.17.0             \n",
            "gin-config                    0.4.0              \n",
            "glob2                         0.7                \n",
            "google                        2.0.3              \n",
            "google-api-core               1.26.3             \n",
            "google-api-python-client      1.12.8             \n",
            "google-auth                   1.32.1             \n",
            "google-auth-httplib2          0.0.4              \n",
            "google-auth-oauthlib          0.4.4              \n",
            "google-cloud-bigquery         1.21.0             \n",
            "google-cloud-bigquery-storage 1.1.0              \n",
            "google-cloud-core             1.0.3              \n",
            "google-cloud-datastore        1.8.0              \n",
            "google-cloud-firestore        1.7.0              \n",
            "google-cloud-language         1.2.0              \n",
            "google-cloud-storage          1.18.1             \n",
            "google-cloud-translate        1.5.0              \n",
            "google-colab                  1.0.0              \n",
            "google-pasta                  0.2.0              \n",
            "google-resumable-media        0.4.1              \n",
            "googleapis-common-protos      1.53.0             \n",
            "googledrivedownloader         0.4                \n",
            "graphviz                      0.10.1             \n",
            "greenlet                      1.1.0              \n",
            "grpcio                        1.34.1             \n",
            "gspread                       3.0.1              \n",
            "gspread-dataframe             3.0.8              \n",
            "gym                           0.17.3             \n",
            "h5py                          3.1.0              \n",
            "HeapDict                      1.0.1              \n",
            "hijri-converter               2.1.3              \n",
            "holidays                      0.10.5.2           \n",
            "holoviews                     1.14.4             \n",
            "html5lib                      1.0.1              \n",
            "httpimport                    0.5.18             \n",
            "httplib2                      0.17.4             \n",
            "httplib2shim                  0.0.3              \n",
            "humanize                      0.5.1              \n",
            "hyperopt                      0.1.2              \n",
            "ideep4py                      2.0.0.post3        \n",
            "idna                          2.10               \n",
            "imageio                       2.4.1              \n",
            "imagesize                     1.2.0              \n",
            "imbalanced-learn              0.4.3              \n",
            "imblearn                      0.0                \n",
            "imgaug                        0.2.9              \n",
            "importlib-metadata            4.6.0              \n",
            "importlib-resources           5.2.0              \n",
            "imutils                       0.5.4              \n",
            "inflect                       2.1.0              \n",
            "iniconfig                     1.1.1              \n",
            "install                       1.3.4              \n",
            "intel-openmp                  2021.3.0           \n",
            "intervaltree                  2.1.0              \n",
            "ipykernel                     4.10.1             \n",
            "ipython                       5.5.0              \n",
            "ipython-genutils              0.2.0              \n",
            "ipython-sql                   0.3.9              \n",
            "ipywidgets                    7.6.3              \n",
            "itsdangerous                  1.1.0              \n",
            "jax                           0.2.13             \n",
            "jaxlib                        0.1.66+cuda110     \n",
            "jdcal                         1.4.1              \n",
            "jedi                          0.18.0             \n",
            "jieba                         0.42.1             \n",
            "Jinja2                        2.11.3             \n",
            "joblib                        1.0.1              \n",
            "jpeg4py                       0.1.4              \n",
            "jsonschema                    2.6.0              \n",
            "jupyter                       1.0.0              \n",
            "jupyter-client                5.3.5              \n",
            "jupyter-console               5.2.0              \n",
            "jupyter-core                  4.7.1              \n",
            "jupyterlab-pygments           0.1.2              \n",
            "jupyterlab-widgets            1.0.0              \n",
            "kaggle                        1.5.12             \n",
            "kapre                         0.3.5              \n",
            "Keras                         2.4.3              \n",
            "keras-nightly                 2.5.0.dev2021032900\n",
            "Keras-Preprocessing           1.1.2              \n",
            "keras-vis                     0.4.1              \n",
            "kiwisolver                    1.3.1              \n",
            "korean-lunar-calendar         0.2.1              \n",
            "librosa                       0.8.1              \n",
            "lightgbm                      2.2.3              \n",
            "llvmlite                      0.34.0             \n",
            "lmdb                          0.99               \n",
            "LunarCalendar                 0.0.9              \n",
            "lxml                          4.2.6              \n",
            "Markdown                      3.3.4              \n",
            "MarkupSafe                    2.0.1              \n",
            "matplotlib                    3.2.2              \n",
            "matplotlib-inline             0.1.2              \n",
            "matplotlib-venn               0.11.6             \n",
            "missingno                     0.4.2              \n",
            "mistune                       0.8.4              \n",
            "mizani                        0.6.0              \n",
            "mkl                           2019.0             \n",
            "mlxtend                       0.14.0             \n",
            "more-itertools                8.8.0              \n",
            "moviepy                       0.2.3.5            \n",
            "mpmath                        1.2.1              \n",
            "msgpack                       1.0.2              \n",
            "multiprocess                  0.70.12.2          \n",
            "multitasking                  0.0.9              \n",
            "murmurhash                    1.0.5              \n",
            "music21                       5.5.0              \n",
            "natsort                       5.5.0              \n",
            "nbclient                      0.5.3              \n",
            "nbconvert                     5.6.1              \n",
            "nbformat                      5.1.3              \n",
            "nest-asyncio                  1.5.1              \n",
            "netCDF4                       1.5.7              \n",
            "networkx                      2.5.1              \n",
            "nibabel                       3.0.2              \n",
            "nltk                          3.2.5              \n",
            "notebook                      5.3.1              \n",
            "numba                         0.51.2             \n",
            "numexpr                       2.7.3              \n",
            "numpy                         1.19.5             \n",
            "nvidia-ml-py3                 7.352.0            \n",
            "oauth2client                  4.1.3              \n",
            "oauthlib                      3.1.1              \n",
            "okgrade                       0.4.3              \n",
            "opencv-contrib-python         4.1.2.30           \n",
            "opencv-python                 4.1.2.30           \n",
            "openpyxl                      2.5.9              \n",
            "opt-einsum                    3.3.0              \n",
            "osqp                          0.6.2.post0        \n",
            "packaging                     20.9               \n",
            "palettable                    3.3.0              \n",
            "pandas                        1.1.5              \n",
            "pandas-datareader             0.9.0              \n",
            "pandas-gbq                    0.13.3             \n",
            "pandas-profiling              1.4.1              \n",
            "pandocfilters                 1.4.3              \n",
            "panel                         0.11.3             \n",
            "param                         1.10.1             \n",
            "parso                         0.8.2              \n",
            "pathlib                       1.0.1              \n",
            "patsy                         0.5.1              \n",
            "pexpect                       4.8.0              \n",
            "pickleshare                   0.7.5              \n",
            "Pillow                        7.1.2              \n",
            "pip                           19.3.1             \n",
            "pip-tools                     4.5.1              \n",
            "plac                          1.1.3              \n",
            "plotly                        4.4.1              \n",
            "plotnine                      0.6.0              \n",
            "pluggy                        0.7.1              \n",
            "pooch                         1.4.0              \n",
            "portpicker                    1.3.9              \n",
            "prefetch-generator            1.0.1              \n",
            "preshed                       3.0.5              \n",
            "prettytable                   2.1.0              \n",
            "progressbar2                  3.38.0             \n",
            "prometheus-client             0.11.0             \n",
            "promise                       2.3                \n",
            "prompt-toolkit                1.0.18             \n",
            "protobuf                      3.17.3             \n",
            "psutil                        5.4.8              \n",
            "psycopg2                      2.7.6.1            \n",
            "ptyprocess                    0.7.0              \n",
            "py                            1.10.0             \n",
            "pyarrow                       3.0.0              \n",
            "pyasn1                        0.4.8              \n",
            "pyasn1-modules                0.2.8              \n",
            "pycocotools                   2.0.2              \n",
            "pycparser                     2.20               \n",
            "pyct                          0.4.8              \n",
            "pydata-google-auth            1.2.0              \n",
            "pydot                         1.3.0              \n",
            "pydot-ng                      2.0.0              \n",
            "pydotplus                     2.0.2              \n",
            "PyDrive                       1.3.1              \n",
            "pyemd                         0.5.1              \n",
            "pyerfa                        2.0.0              \n",
            "pyglet                        1.5.0              \n",
            "Pygments                      2.6.1              \n",
            "pygobject                     3.26.1             \n",
            "pymc3                         3.11.2             \n",
            "PyMeeus                       0.5.11             \n",
            "pymongo                       3.11.4             \n",
            "pymystem3                     0.2.0              \n",
            "PyOpenGL                      3.1.5              \n",
            "pyparsing                     2.4.7              \n",
            "pyrsistent                    0.18.0             \n",
            "pysndfile                     1.3.8              \n",
            "PySocks                       1.7.1              \n",
            "pystan                        2.19.1.1           \n",
            "pytest                        3.6.4              \n",
            "python-apt                    0.0.0              \n",
            "python-chess                  0.23.11            \n",
            "python-dateutil               2.8.1              \n",
            "python-louvain                0.15               \n",
            "python-slugify                5.0.2              \n",
            "python-utils                  2.5.6              \n",
            "pytz                          2018.9             \n",
            "pyviz-comms                   2.1.0              \n",
            "PyWavelets                    1.1.1              \n",
            "PyYAML                        3.13               \n",
            "pyzmq                         22.1.0             \n",
            "qdldl                         0.1.5.post0        \n",
            "qtconsole                     5.1.1              \n",
            "QtPy                          1.9.0              \n",
            "regex                         2019.12.20         \n",
            "requests                      2.23.0             \n",
            "requests-oauthlib             1.3.0              \n",
            "resampy                       0.2.2              \n",
            "retrying                      1.3.3              \n",
            "rpy2                          3.4.5              \n",
            "rsa                           4.7.2              \n",
            "scikit-image                  0.16.2             \n",
            "scikit-learn                  0.22.2.post1       \n",
            "scipy                         1.4.1              \n",
            "screen-resolution-extra       0.0.0              \n",
            "scs                           2.1.4              \n",
            "seaborn                       0.11.1             \n",
            "semver                        2.13.0             \n",
            "Send2Trash                    1.7.1              \n",
            "setuptools                    57.0.0             \n",
            "setuptools-git                1.2                \n",
            "Shapely                       1.7.1              \n",
            "simplegeneric                 0.8.1              \n",
            "six                           1.15.0             \n",
            "sklearn                       0.0                \n",
            "sklearn-pandas                1.8.0              \n",
            "smart-open                    5.1.0              \n",
            "snowballstemmer               2.1.0              \n",
            "sortedcontainers              2.4.0              \n",
            "SoundFile                     0.10.3.post1       \n",
            "spacy                         2.2.4              \n",
            "Sphinx                        1.8.5              \n",
            "sphinxcontrib-serializinghtml 1.1.5              \n",
            "sphinxcontrib-websupport      1.2.4              \n",
            "SQLAlchemy                    1.4.20             \n",
            "sqlparse                      0.4.1              \n",
            "srsly                         1.0.5              \n",
            "statsmodels                   0.10.2             \n",
            "sympy                         1.7.1              \n",
            "tables                        3.4.4              \n",
            "tabulate                      0.8.9              \n",
            "tblib                         1.7.0              \n",
            "tensorboard                   2.5.0              \n",
            "tensorboard-data-server       0.6.1              \n",
            "tensorboard-plugin-wit        1.8.0              \n",
            "tensorflow                    2.5.0              \n",
            "tensorflow-datasets           4.0.1              \n",
            "tensorflow-estimator          2.5.0              \n",
            "tensorflow-gcs-config         2.5.0              \n",
            "tensorflow-hub                0.12.0             \n",
            "tensorflow-metadata           1.1.0              \n",
            "tensorflow-probability        0.13.0             \n",
            "termcolor                     1.1.0              \n",
            "terminado                     0.10.1             \n",
            "testpath                      0.5.0              \n",
            "text-unidecode                1.3                \n",
            "textblob                      0.15.3             \n",
            "Theano-PyMC                   1.1.2              \n",
            "thinc                         7.4.0              \n",
            "tifffile                      2021.7.2           \n",
            "toml                          0.10.2             \n",
            "toolz                         0.11.1             \n",
            "torch                         1.9.0+cu102        \n",
            "torchsummary                  1.5.1              \n",
            "torchtext                     0.10.0             \n",
            "torchvision                   0.10.0+cu102       \n",
            "tornado                       5.1.1              \n",
            "tqdm                          4.41.1             \n",
            "traitlets                     5.0.5              \n",
            "tweepy                        3.10.0             \n",
            "typeguard                     2.7.1              \n",
            "typing-extensions             3.7.4.3            \n",
            "tzlocal                       1.5.1              \n",
            "uritemplate                   3.0.1              \n",
            "urllib3                       1.24.3             \n",
            "vega-datasets                 0.9.0              \n",
            "wasabi                        0.8.2              \n",
            "wcwidth                       0.2.5              \n",
            "webencodings                  0.5.1              \n",
            "Werkzeug                      1.0.1              \n",
            "wheel                         0.36.2             \n",
            "widgetsnbextension            3.5.1              \n",
            "wordcloud                     1.5.0              \n",
            "wrapt                         1.12.1             \n",
            "xarray                        0.18.2             \n",
            "xgboost                       0.90               \n",
            "xkit                          0.0.0              \n",
            "xlrd                          1.1.0              \n",
            "xlwt                          1.3.0              \n",
            "yellowbrick                   0.9.1              \n",
            "zict                          2.0.0              \n",
            "zipp                          3.4.1              \n"
          ],
          "name": "stdout"
        }
      ]
    },
    {
      "cell_type": "code",
      "metadata": {
        "id": "Y0l7vs61_CPw"
      },
      "source": [
        ""
      ],
      "execution_count": 43,
      "outputs": []
    }
  ]
}